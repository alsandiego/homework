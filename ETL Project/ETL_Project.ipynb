{
 "cells": [
  {
   "cell_type": "code",
   "execution_count": null,
   "metadata": {},
   "outputs": [],
   "source": [
    "# Dependencies\n",
    "import json\n",
    "import requests\n",
    "from bs4 import BeautifulSoup as bs\n",
    "import pymongo"
   ]
  },
  {
   "cell_type": "code",
   "execution_count": null,
   "metadata": {},
   "outputs": [],
   "source": [
    "# Initialize PyMongo to work with MongoDBs\n",
    "conn = 'mongodb://localhost:27017'\n",
    "client = pymongo.MongoClient(conn)"
   ]
  },
  {
   "cell_type": "code",
   "execution_count": null,
   "metadata": {},
   "outputs": [],
   "source": [
    "# Define database and collection\n",
    "db = client.etl_project_db\n",
    "collection_oc = db.oc_data\n",
    "collection_city = db.city_zipcode"
   ]
  },
  {
   "cell_type": "code",
   "execution_count": null,
   "metadata": {},
   "outputs": [],
   "source": [
    "# URL of page to be scraped\n",
    "\n",
    "# Orange County: https://data-ocpw.opendata.arcgis.com/datasets/d625d46014c44e68a483ab0e74be2aa2_7/data\n",
    "url_oc = 'https://opendata.arcgis.com/datasets/d625d46014c44e68a483ab0e74be2aa2_7.geojson'\n",
    "\n",
    "# Los Angeles: https://data.lacity.org/dataset/2010-Census-Populations-by-Zip-Code/nxs9-385f/data\n",
    "url_la = 'https://data.lacity.org/resource/nxs9-385f.json'\n",
    "\n",
    "# California Zip Codes: https://www.zip-codes.com/state/ca.asp\n",
    "url_city_data = 'https://www.zip-codes.com/state/ca.asp'\n"
   ]
  },
  {
   "cell_type": "code",
   "execution_count": null,
   "metadata": {},
   "outputs": [],
   "source": [
    "# Retrieve page with the requests module\n",
    "response = requests.get(url_oc).json()\n",
    "response_city = requests.get(url_city_data)\n",
    "\n",
    "# Create BeautifulSoup object for scraping California Zip Codes'\n",
    "soup = bs(response_city.text, 'html.parser')\n",
    "print(soup)"
   ]
  },
  {
   "cell_type": "code",
   "execution_count": null,
   "metadata": {},
   "outputs": [],
   "source": [
    "# For loop to extract data from JSON for Population Data\n",
    "for i in range(len(response['features'])):\n",
    "    zipcode = response['features'][i][\"properties\"][\"GEOID10\"]\n",
    "    total_population = response['features'][i][\"properties\"][\"DP0010001\"]\n",
    "    male_population = response['features'][i][\"properties\"][\"DP0010020\"]\n",
    "    female_population = response['features'][i][\"properties\"][\"DP0010039\"]\n",
    "    total_household = response['features'][i][\"properties\"][\"DP0130001\"]\n",
    "    \n",
    "    post = {\n",
    "        'zipcode':zipcode,\n",
    "        'total_population':total_population,\n",
    "        'male_population':male_population,\n",
    "        'female_population':female_population,\n",
    "        'total_household':total_household\n",
    "    }\n",
    "    \n",
    "    # Dictionary to be inserted as a MongoDB document\n",
    "    collection_oc.insert_one(post)"
   ]
  },
  {
   "cell_type": "code",
   "execution_count": null,
   "metadata": {},
   "outputs": [],
   "source": [
    "# Examine the results, then determine element that contains sought info\n",
    "# results are returned as an iterable list\n",
    "# For California Zip Code\n",
    "results = soup.find_all('tr')\n",
    "\n",
    "print(results)"
   ]
  },
  {
   "cell_type": "code",
   "execution_count": null,
   "metadata": {},
   "outputs": [],
   "source": [
    "# For loop to insert data to Mongo for California Zip Code and ignore first column\n",
    "row_num = 0\n",
    "for result in results:\n",
    "    if result.find('td'):\n",
    "         if result.find_all('a'):\n",
    "            if row_num>1:\n",
    "                zipcode = result.find_all('a')[0].text.strip('ZIP Code ')\n",
    "                city = result.find_all('a')[1].text\n",
    "                post = {'zipcode':zipcode,\n",
    "                        'city':city}\n",
    "                # Dictionary to be inserted as a MongoDB document\n",
    "                collection_city.insert_one(post)\n",
    "            row_num = row_num + 1"
   ]
  },
  {
   "cell_type": "code",
   "execution_count": null,
   "metadata": {},
   "outputs": [],
   "source": [
    "# Display items in MongoDB collection\n",
    "oc_data = db.oc_data.find()\n",
    "\n",
    "for data in oc_data:\n",
    "    print(data)"
   ]
  }
 ],
 "metadata": {
  "kernelspec": {
   "display_name": "Python 3",
   "language": "python",
   "name": "python3"
  },
  "language_info": {
   "codemirror_mode": {
    "name": "ipython",
    "version": 3
   },
   "file_extension": ".py",
   "mimetype": "text/x-python",
   "name": "python",
   "nbconvert_exporter": "python",
   "pygments_lexer": "ipython3",
   "version": "3.7.3"
  }
 },
 "nbformat": 4,
 "nbformat_minor": 2
}
