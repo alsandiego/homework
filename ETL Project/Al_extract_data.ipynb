{
 "cells": [
  {
   "cell_type": "code",
   "execution_count": 1,
   "metadata": {},
   "outputs": [],
   "source": [
    "# Dependencies\n",
    "import json\n",
    "import requests"
   ]
  },
  {
   "cell_type": "code",
   "execution_count": 2,
   "metadata": {},
   "outputs": [],
   "source": [
    "# URL of page to be scraped\n",
    "url = 'https://opendata.arcgis.com/datasets/d625d46014c44e68a483ab0e74be2aa2_7.geojson'"
   ]
  },
  {
   "cell_type": "code",
   "execution_count": 3,
   "metadata": {},
   "outputs": [],
   "source": [
    "# Retrieve page with the requests module\n",
    "response = requests.get(url).json()"
   ]
  },
  {
   "cell_type": "code",
   "execution_count": 4,
   "metadata": {},
   "outputs": [
    {
     "name": "stdout",
     "output_type": "stream",
     "text": [
      "90620\n",
      "90621\n",
      "90623\n",
      "90630\n",
      "90631\n",
      "90680\n",
      "90720\n",
      "90740\n",
      "90742\n",
      "90743\n",
      "92530\n",
      "92602\n",
      "92603\n",
      "92604\n",
      "92606\n",
      "92610\n",
      "92612\n",
      "92614\n",
      "92617\n",
      "92618\n",
      "92620\n",
      "92624\n",
      "92625\n",
      "92626\n",
      "92627\n",
      "92629\n",
      "92630\n",
      "92637\n",
      "92646\n",
      "92647\n",
      "92648\n",
      "92649\n",
      "92651\n",
      "92653\n",
      "92655\n",
      "92656\n",
      "92657\n",
      "92660\n",
      "92661\n",
      "92662\n",
      "92663\n",
      "92672\n",
      "92673\n",
      "92675\n",
      "92676\n",
      "92677\n",
      "92678\n",
      "92679\n",
      "92683\n",
      "92688\n",
      "92691\n",
      "92692\n",
      "92694\n",
      "92701\n",
      "92703\n",
      "92704\n",
      "92705\n",
      "92706\n",
      "92707\n",
      "92708\n",
      "92780\n",
      "92782\n",
      "92801\n",
      "92802\n",
      "92804\n",
      "92805\n",
      "92806\n",
      "92807\n",
      "92808\n",
      "92821\n",
      "92823\n",
      "92831\n",
      "92832\n",
      "92833\n",
      "92835\n",
      "92840\n",
      "92841\n",
      "92843\n",
      "92844\n",
      "92845\n",
      "92861\n",
      "92865\n",
      "92866\n",
      "92867\n",
      "92868\n",
      "92869\n",
      "92870\n",
      "92886\n",
      "92887\n"
     ]
    }
   ],
   "source": [
    "for i in range(len(response['features'])):\n",
    "    print(response['features'][i][\"properties\"][\"GEOID10\"])"
   ]
  },
  {
   "cell_type": "code",
   "execution_count": null,
   "metadata": {},
   "outputs": [],
   "source": []
  }
 ],
 "metadata": {
  "kernelspec": {
   "display_name": "Python 3",
   "language": "python",
   "name": "python3"
  },
  "language_info": {
   "codemirror_mode": {
    "name": "ipython",
    "version": 3
   },
   "file_extension": ".py",
   "mimetype": "text/x-python",
   "name": "python",
   "nbconvert_exporter": "python",
   "pygments_lexer": "ipython3",
   "version": "3.7.5"
  }
 },
 "nbformat": 4,
 "nbformat_minor": 2
}
