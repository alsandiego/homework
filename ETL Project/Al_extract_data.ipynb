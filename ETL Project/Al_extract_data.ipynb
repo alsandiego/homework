{
 "cells": [
  {
   "cell_type": "code",
   "execution_count": 1,
   "metadata": {},
   "outputs": [],
   "source": [
    "# Dependencies\n",
    "import json\n",
    "import requests\n",
    "from bs4 import BeautifulSoup as bs\n",
    "import pymongo"
   ]
  },
  {
   "cell_type": "code",
   "execution_count": 2,
   "metadata": {},
   "outputs": [],
   "source": [
    "# Initialize PyMongo to work with MongoDBs\n",
    "conn = 'mongodb://localhost:27017'\n",
    "client = pymongo.MongoClient(conn)"
   ]
  },
  {
   "cell_type": "code",
   "execution_count": 3,
   "metadata": {},
   "outputs": [],
   "source": [
    "# Define database and collection\n",
    "db = client.etl_project_db\n",
    "collection = db.oc_data"
   ]
  },
  {
   "cell_type": "code",
   "execution_count": 4,
   "metadata": {},
   "outputs": [],
   "source": [
    "# URL of page to be scraped\n",
    "# Orange County: https://data-ocpw.opendata.arcgis.com/datasets/d625d46014c44e68a483ab0e74be2aa2_7/data\n",
    "url_oc = 'https://opendata.arcgis.com/datasets/d625d46014c44e68a483ab0e74be2aa2_7.geojson'\n",
    "\n",
    "# Los Angeles: https://data.lacity.org/dataset/2010-Census-Populations-by-Zip-Code/nxs9-385f/data\n",
    "url_la = 'https://data.lacity.org/resource/nxs9-385f.json'\n"
   ]
  },
  {
   "cell_type": "code",
   "execution_count": 5,
   "metadata": {},
   "outputs": [],
   "source": [
    "# Retrieve page with the requests module\n",
    "response = requests.get(url_oc).json()"
   ]
  },
  {
   "cell_type": "code",
   "execution_count": 6,
   "metadata": {},
   "outputs": [],
   "source": [
    "for i in range(len(response['features'])):\n",
    "    zipcode = response['features'][i][\"properties\"][\"GEOID10\"]\n",
    "    total_population = response['features'][i][\"properties\"][\"DP0010001\"]\n",
    "    male_population = response['features'][i][\"properties\"][\"DP0010020\"]\n",
    "    female_population = response['features'][i][\"properties\"][\"DP0010039\"]\n",
    "    total_household = response['features'][i][\"properties\"][\"DP0130001\"]\n",
    "    \n",
    "    post = {\n",
    "        'zipcode':zipcode,\n",
    "        'total_population':total_population,\n",
    "        'male_population':male_population,\n",
    "        'female_population':female_population,\n",
    "        'total_household':total_household\n",
    "    }\n",
    "    \n",
    "    # Dictionary to be inserted as a MongoDB document\n",
    "    collection.insert_one(post)"
   ]
  },
  {
   "cell_type": "code",
   "execution_count": 7,
   "metadata": {},
   "outputs": [
    {
     "name": "stdout",
     "output_type": "stream",
     "text": [
      "{'_id': ObjectId('5dcccbcf26aec451d00c337d'), 'zipcode': '90620', 'total_population': 45113, 'male_population': 22241, 'female_population': 22872, 'total_household': 13268}\n",
      "{'_id': ObjectId('5dcccbcf26aec451d00c337e'), 'zipcode': '90621', 'total_population': 35153, 'male_population': 17377, 'female_population': 17776, 'total_household': 10304}\n",
      "{'_id': ObjectId('5dcccbcf26aec451d00c337f'), 'zipcode': '90623', 'total_population': 15554, 'male_population': 7516, 'female_population': 8038, 'total_household': 5072}\n",
      "{'_id': ObjectId('5dcccbcf26aec451d00c3380'), 'zipcode': '90630', 'total_population': 47993, 'male_population': 23204, 'female_population': 24789, 'total_household': 15785}\n",
      "{'_id': ObjectId('5dcccbcf26aec451d00c3381'), 'zipcode': '90631', 'total_population': 67619, 'male_population': 33320, 'female_population': 34299, 'total_household': 21452}\n",
      "{'_id': ObjectId('5dcccbcf26aec451d00c3382'), 'zipcode': '90680', 'total_population': 29945, 'male_population': 14811, 'female_population': 15134, 'total_household': 8510}\n",
      "{'_id': ObjectId('5dcccbcf26aec451d00c3383'), 'zipcode': '90720', 'total_population': 21751, 'male_population': 10423, 'female_population': 11328, 'total_household': 7789}\n",
      "{'_id': ObjectId('5dcccbcf26aec451d00c3384'), 'zipcode': '90740', 'total_population': 23729, 'male_population': 10423, 'female_population': 13306, 'total_household': 12830}\n",
      "{'_id': ObjectId('5dcccbcf26aec451d00c3385'), 'zipcode': '90742', 'total_population': 831, 'male_population': 454, 'female_population': 377, 'total_household': 445}\n",
      "{'_id': ObjectId('5dcccbcf26aec451d00c3386'), 'zipcode': '90743', 'total_population': 456, 'male_population': 238, 'female_population': 218, 'total_household': 187}\n",
      "{'_id': ObjectId('5dcccbcf26aec451d00c3387'), 'zipcode': '92530', 'total_population': 50216, 'male_population': 25354, 'female_population': 24862, 'total_household': 14664}\n",
      "{'_id': ObjectId('5dcccbcf26aec451d00c3388'), 'zipcode': '92602', 'total_population': 22871, 'male_population': 11143, 'female_population': 11728, 'total_household': 8413}\n",
      "{'_id': ObjectId('5dcccbcf26aec451d00c3389'), 'zipcode': '92603', 'total_population': 20184, 'male_population': 10024, 'female_population': 10160, 'total_household': 7574}\n",
      "{'_id': ObjectId('5dcccbcf26aec451d00c338a'), 'zipcode': '92604', 'total_population': 26853, 'male_population': 12997, 'female_population': 13856, 'total_household': 9722}\n",
      "{'_id': ObjectId('5dcccbcf26aec451d00c338b'), 'zipcode': '92606', 'total_population': 21495, 'male_population': 10466, 'female_population': 11029, 'total_household': 7671}\n",
      "{'_id': ObjectId('5dcccbcf26aec451d00c338c'), 'zipcode': '92610', 'total_population': 11248, 'male_population': 5623, 'female_population': 5625, 'total_household': 3766}\n",
      "{'_id': ObjectId('5dcccbcf26aec451d00c338d'), 'zipcode': '92612', 'total_population': 27522, 'male_population': 13425, 'female_population': 14097, 'total_household': 11549}\n",
      "{'_id': ObjectId('5dcccbcf26aec451d00c338e'), 'zipcode': '92614', 'total_population': 24748, 'male_population': 11975, 'female_population': 12773, 'total_household': 9464}\n",
      "{'_id': ObjectId('5dcccbcf26aec451d00c338f'), 'zipcode': '92617', 'total_population': 14044, 'male_population': 6721, 'female_population': 7323, 'total_household': 3652}\n",
      "{'_id': ObjectId('5dcccbcf26aec451d00c3390'), 'zipcode': '92618', 'total_population': 16366, 'male_population': 8252, 'female_population': 8114, 'total_household': 7202}\n",
      "{'_id': ObjectId('5dcccbcf26aec451d00c3391'), 'zipcode': '92620', 'total_population': 38486, 'male_population': 18533, 'female_population': 19953, 'total_household': 13749}\n",
      "{'_id': ObjectId('5dcccbcf26aec451d00c3392'), 'zipcode': '92624', 'total_population': 7248, 'male_population': 3652, 'female_population': 3596, 'total_household': 2781}\n",
      "{'_id': ObjectId('5dcccbcf26aec451d00c3393'), 'zipcode': '92625', 'total_population': 12478, 'male_population': 5817, 'female_population': 6661, 'total_household': 6082}\n",
      "{'_id': ObjectId('5dcccbcf26aec451d00c3394'), 'zipcode': '92626', 'total_population': 49341, 'male_population': 24786, 'female_population': 24555, 'total_household': 18535}\n",
      "{'_id': ObjectId('5dcccbcf26aec451d00c3395'), 'zipcode': '92627', 'total_population': 61510, 'male_population': 31607, 'female_population': 29903, 'total_household': 21761}\n",
      "{'_id': ObjectId('5dcccbcf26aec451d00c3396'), 'zipcode': '92629', 'total_population': 25756, 'male_population': 12693, 'female_population': 13063, 'total_household': 11198}\n",
      "{'_id': ObjectId('5dcccbcf26aec451d00c3397'), 'zipcode': '92630', 'total_population': 59182, 'male_population': 29398, 'female_population': 29784, 'total_household': 20094}\n",
      "{'_id': ObjectId('5dcccbcf26aec451d00c3398'), 'zipcode': '92637', 'total_population': 16012, 'male_population': 5716, 'female_population': 10296, 'total_household': 11143}\n",
      "{'_id': ObjectId('5dcccbcf26aec451d00c3399'), 'zipcode': '92646', 'total_population': 55224, 'male_population': 27076, 'female_population': 28148, 'total_household': 21235}\n",
      "{'_id': ObjectId('5dcccbcf26aec451d00c339a'), 'zipcode': '92647', 'total_population': 57245, 'male_population': 28566, 'female_population': 28679, 'total_household': 19847}\n",
      "{'_id': ObjectId('5dcccbcf26aec451d00c339b'), 'zipcode': '92648', 'total_population': 45317, 'male_population': 22719, 'female_population': 22598, 'total_household': 19453}\n",
      "{'_id': ObjectId('5dcccbcf26aec451d00c339c'), 'zipcode': '92649', 'total_population': 32463, 'male_population': 16037, 'female_population': 16426, 'total_household': 13862}\n",
      "{'_id': ObjectId('5dcccbcf26aec451d00c339d'), 'zipcode': '92651', 'total_population': 23881, 'male_population': 11977, 'female_population': 11904, 'total_household': 11254}\n",
      "{'_id': ObjectId('5dcccbcf26aec451d00c339e'), 'zipcode': '92653', 'total_population': 29291, 'male_population': 14371, 'female_population': 14920, 'total_household': 9850}\n",
      "{'_id': ObjectId('5dcccbcf26aec451d00c339f'), 'zipcode': '92655', 'total_population': 8337, 'male_population': 4111, 'female_population': 4226, 'total_household': 2337}\n",
      "{'_id': ObjectId('5dcccbcf26aec451d00c33a0'), 'zipcode': '92656', 'total_population': 49046, 'male_population': 23506, 'female_population': 25540, 'total_household': 18977}\n",
      "{'_id': ObjectId('5dcccbcf26aec451d00c33a1'), 'zipcode': '92657', 'total_population': 9741, 'male_population': 4709, 'female_population': 5032, 'total_household': 3777}\n",
      "{'_id': ObjectId('5dcccbcf26aec451d00c33a2'), 'zipcode': '92660', 'total_population': 34797, 'male_population': 16839, 'female_population': 17958, 'total_household': 15158}\n",
      "{'_id': ObjectId('5dcccbcf26aec451d00c33a3'), 'zipcode': '92661', 'total_population': 3744, 'male_population': 1981, 'female_population': 1763, 'total_household': 1854}\n",
      "{'_id': ObjectId('5dcccbcf26aec451d00c33a4'), 'zipcode': '92662', 'total_population': 2756, 'male_population': 1230, 'female_population': 1526, 'total_household': 1526}\n",
      "{'_id': ObjectId('5dcccbcf26aec451d00c33a5'), 'zipcode': '92663', 'total_population': 21649, 'male_population': 11377, 'female_population': 10272, 'total_household': 10355}\n",
      "{'_id': ObjectId('5dcccbcf26aec451d00c33a6'), 'zipcode': '92672', 'total_population': 34464, 'male_population': 17412, 'female_population': 17052, 'total_household': 14109}\n",
      "{'_id': ObjectId('5dcccbcf26aec451d00c33a7'), 'zipcode': '92673', 'total_population': 29309, 'male_population': 14613, 'female_population': 14696, 'total_household': 9862}\n",
      "{'_id': ObjectId('5dcccbcf26aec451d00c33a8'), 'zipcode': '92675', 'total_population': 34731, 'male_population': 17225, 'female_population': 17506, 'total_household': 11452}\n",
      "{'_id': ObjectId('5dcccbcf26aec451d00c33a9'), 'zipcode': '92676', 'total_population': 1945, 'male_population': 989, 'female_population': 956, 'total_household': 795}\n",
      "{'_id': ObjectId('5dcccbcf26aec451d00c33aa'), 'zipcode': '92677', 'total_population': 63297, 'male_population': 30676, 'female_population': 32621, 'total_household': 24425}\n",
      "{'_id': ObjectId('5dcccbcf26aec451d00c33ab'), 'zipcode': '92678', 'total_population': 494, 'male_population': 247, 'female_population': 247, 'total_household': 185}\n",
      "{'_id': ObjectId('5dcccbcf26aec451d00c33ac'), 'zipcode': '92679', 'total_population': 32611, 'male_population': 16169, 'female_population': 16442, 'total_household': 10497}\n",
      "{'_id': ObjectId('5dcccbcf26aec451d00c33ad'), 'zipcode': '92683', 'total_population': 89747, 'male_population': 44391, 'female_population': 45356, 'total_household': 26223}\n",
      "{'_id': ObjectId('5dcccbcf26aec451d00c33ae'), 'zipcode': '92688', 'total_population': 43792, 'male_population': 21311, 'female_population': 22481, 'total_household': 15530}\n",
      "{'_id': ObjectId('5dcccbcf26aec451d00c33af'), 'zipcode': '92691', 'total_population': 47582, 'male_population': 23526, 'female_population': 24056, 'total_household': 16244}\n",
      "{'_id': ObjectId('5dcccbcf26aec451d00c33b0'), 'zipcode': '92692', 'total_population': 47222, 'male_population': 22763, 'female_population': 24459, 'total_household': 17516}\n",
      "{'_id': ObjectId('5dcccbcf26aec451d00c33b1'), 'zipcode': '92694', 'total_population': 21944, 'male_population': 10833, 'female_population': 11111, 'total_household': 6669}\n",
      "{'_id': ObjectId('5dcccbcf26aec451d00c33b2'), 'zipcode': '92701', 'total_population': 53908, 'male_population': 27732, 'female_population': 26176, 'total_household': 12495}\n",
      "{'_id': ObjectId('5dcccbcf26aec451d00c33b3'), 'zipcode': '92703', 'total_population': 65445, 'male_population': 34003, 'female_population': 31442, 'total_household': 12667}\n",
      "{'_id': ObjectId('5dcccbcf26aec451d00c33b4'), 'zipcode': '92704', 'total_population': 88123, 'male_population': 44951, 'female_population': 43172, 'total_household': 19569}\n",
      "{'_id': ObjectId('5dcccbcf26aec451d00c33b5'), 'zipcode': '92705', 'total_population': 44706, 'male_population': 22017, 'female_population': 22689, 'total_household': 14431}\n",
      "{'_id': ObjectId('5dcccbcf26aec451d00c33b6'), 'zipcode': '92706', 'total_population': 36457, 'male_population': 18347, 'female_population': 18110, 'total_household': 9322}\n",
      "{'_id': ObjectId('5dcccbcf26aec451d00c33b7'), 'zipcode': '92707', 'total_population': 59492, 'male_population': 30423, 'female_population': 29069, 'total_household': 12684}\n",
      "{'_id': ObjectId('5dcccbcf26aec451d00c33b8'), 'zipcode': '92708', 'total_population': 56004, 'male_population': 27295, 'female_population': 28709, 'total_household': 18861}\n",
      "{'_id': ObjectId('5dcccbcf26aec451d00c33b9'), 'zipcode': '92780', 'total_population': 57741, 'male_population': 28156, 'female_population': 29585, 'total_household': 18508}\n",
      "{'_id': ObjectId('5dcccbcf26aec451d00c33ba'), 'zipcode': '92782', 'total_population': 23032, 'male_population': 11090, 'female_population': 11942, 'total_household': 8555}\n",
      "{'_id': ObjectId('5dcccbcf26aec451d00c33bb'), 'zipcode': '92801', 'total_population': 62068, 'male_population': 30793, 'female_population': 31275, 'total_household': 17515}\n",
      "{'_id': ObjectId('5dcccbcf26aec451d00c33bc'), 'zipcode': '92802', 'total_population': 42709, 'male_population': 21360, 'female_population': 21349, 'total_household': 11533}\n",
      "{'_id': ObjectId('5dcccbcf26aec451d00c33bd'), 'zipcode': '92804', 'total_population': 85914, 'male_population': 42316, 'female_population': 43598, 'total_household': 24363}\n",
      "{'_id': ObjectId('5dcccbcf26aec451d00c33be'), 'zipcode': '92805', 'total_population': 70401, 'male_population': 35868, 'female_population': 34533, 'total_household': 17599}\n",
      "{'_id': ObjectId('5dcccbcf26aec451d00c33bf'), 'zipcode': '92806', 'total_population': 37173, 'male_population': 18685, 'female_population': 18488, 'total_household': 11698}\n",
      "{'_id': ObjectId('5dcccbcf26aec451d00c33c0'), 'zipcode': '92807', 'total_population': 36171, 'male_population': 17695, 'female_population': 18476, 'total_household': 12560}\n",
      "{'_id': ObjectId('5dcccbcf26aec451d00c33c1'), 'zipcode': '92808', 'total_population': 20039, 'male_population': 9761, 'female_population': 10278, 'total_household': 7300}\n",
      "{'_id': ObjectId('5dcccbcf26aec451d00c33c2'), 'zipcode': '92821', 'total_population': 35533, 'male_population': 17338, 'female_population': 18195, 'total_household': 13062}\n",
      "{'_id': ObjectId('5dcccbcf26aec451d00c33c3'), 'zipcode': '92823', 'total_population': 3613, 'male_population': 1757, 'female_population': 1856, 'total_household': 1154}\n",
      "{'_id': ObjectId('5dcccbcf26aec451d00c33c4'), 'zipcode': '92831', 'total_population': 34204, 'male_population': 16728, 'female_population': 17476, 'total_household': 12515}\n",
      "{'_id': ObjectId('5dcccbcf26aec451d00c33c5'), 'zipcode': '92832', 'total_population': 24752, 'male_population': 12419, 'female_population': 12333, 'total_household': 8016}\n",
      "{'_id': ObjectId('5dcccbcf26aec451d00c33c6'), 'zipcode': '92833', 'total_population': 51767, 'male_population': 25643, 'female_population': 26124, 'total_household': 15849}\n",
      "{'_id': ObjectId('5dcccbcf26aec451d00c33c7'), 'zipcode': '92835', 'total_population': 24010, 'male_population': 11414, 'female_population': 12596, 'total_household': 8783}\n",
      "{'_id': ObjectId('5dcccbcf26aec451d00c33c8'), 'zipcode': '92840', 'total_population': 54083, 'male_population': 26955, 'female_population': 27128, 'total_household': 14775}\n",
      "{'_id': ObjectId('5dcccbcf26aec451d00c33c9'), 'zipcode': '92841', 'total_population': 32845, 'male_population': 16368, 'female_population': 16477, 'total_household': 9060}\n",
      "{'_id': ObjectId('5dcccbcf26aec451d00c33ca'), 'zipcode': '92843', 'total_population': 45214, 'male_population': 22754, 'female_population': 22460, 'total_household': 10846}\n",
      "{'_id': ObjectId('5dcccbcf26aec451d00c33cb'), 'zipcode': '92844', 'total_population': 24307, 'male_population': 12148, 'female_population': 12159, 'total_household': 6494}\n",
      "{'_id': ObjectId('5dcccbcf26aec451d00c33cc'), 'zipcode': '92845', 'total_population': 16333, 'male_population': 7965, 'female_population': 8368, 'total_household': 5626}\n",
      "{'_id': ObjectId('5dcccbcf26aec451d00c33cd'), 'zipcode': '92861', 'total_population': 5781, 'male_population': 2854, 'female_population': 2927, 'total_household': 1967}\n",
      "{'_id': ObjectId('5dcccbcf26aec451d00c33ce'), 'zipcode': '92865', 'total_population': 19704, 'male_population': 9788, 'female_population': 9916, 'total_household': 6342}\n",
      "{'_id': ObjectId('5dcccbcf26aec451d00c33cf'), 'zipcode': '92866', 'total_population': 14885, 'male_population': 7139, 'female_population': 7746, 'total_household': 5762}\n",
      "{'_id': ObjectId('5dcccbcf26aec451d00c33d0'), 'zipcode': '92867', 'total_population': 44515, 'male_population': 22134, 'female_population': 22381, 'total_household': 13284}\n",
      "{'_id': ObjectId('5dcccbcf26aec451d00c33d1'), 'zipcode': '92868', 'total_population': 25404, 'male_population': 13933, 'female_population': 11471, 'total_household': 7611}\n",
      "{'_id': ObjectId('5dcccbcf26aec451d00c33d2'), 'zipcode': '92869', 'total_population': 37184, 'male_population': 18433, 'female_population': 18751, 'total_household': 11668}\n",
      "{'_id': ObjectId('5dcccbcf26aec451d00c33d3'), 'zipcode': '92870', 'total_population': 52033, 'male_population': 25617, 'female_population': 26416, 'total_household': 16914}\n",
      "{'_id': ObjectId('5dcccbcf26aec451d00c33d4'), 'zipcode': '92886', 'total_population': 46564, 'male_population': 22582, 'female_population': 23982, 'total_household': 15722}\n",
      "{'_id': ObjectId('5dcccbcf26aec451d00c33d5'), 'zipcode': '92887', 'total_population': 20006, 'male_population': 9803, 'female_population': 10203, 'total_household': 6699}\n"
     ]
    }
   ],
   "source": [
    "# Display items in MongoDB collection\n",
    "oc_data = db.oc_data.find()\n",
    "\n",
    "for data in oc_data:\n",
    "    print(data)"
   ]
  },
  {
   "cell_type": "code",
   "execution_count": null,
   "metadata": {},
   "outputs": [],
   "source": []
  }
 ],
 "metadata": {
  "kernelspec": {
   "display_name": "Python 3",
   "language": "python",
   "name": "python3"
  },
  "language_info": {
   "codemirror_mode": {
    "name": "ipython",
    "version": 3
   },
   "file_extension": ".py",
   "mimetype": "text/x-python",
   "name": "python",
   "nbconvert_exporter": "python",
   "pygments_lexer": "ipython3",
   "version": "3.7.5"
  }
 },
 "nbformat": 4,
 "nbformat_minor": 2
}
