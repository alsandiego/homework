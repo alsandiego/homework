{
 "cells": [
  {
   "cell_type": "code",
   "execution_count": 14,
   "metadata": {},
   "outputs": [],
   "source": [
    "#import dependencies needed\n",
    "import csv\n",
    "import os"
   ]
  },
  {
   "cell_type": "code",
   "execution_count": 15,
   "metadata": {},
   "outputs": [],
   "source": [
    "#reference my csv file\n",
    "csvpath = os.path.join('Resources', 'election_data.csv')\n",
    "#specify file to output\n",
    "outputpath = os.path.join(\"output\", \"summary.csv\")\n",
    "\n",
    "voters = {}\n",
    "candidates = {}"
   ]
  },
  {
   "cell_type": "code",
   "execution_count": 29,
   "metadata": {},
   "outputs": [
    {
     "name": "stdout",
     "output_type": "stream",
     "text": [
      "{'Khan': 2218231, 'Correy': 704200, 'Li': 492940, \"O'Tooley\": 105630}\n"
     ]
    }
   ],
   "source": [
    "with open(csvpath, newline='') as csvfile:\n",
    "    csvreader = csv.reader(csvfile, delimiter=',')\n",
    "\n",
    "    #Read the header row first and then skip it\n",
    "    csv_header = next(csvreader)\n",
    "    \n",
    "    #creates a list and append each row in respective column\n",
    "    #for row in csvreader:\n",
    "#         voters.append(row[0])\n",
    "        \n",
    "#         voterid.append(row[0])\n",
    "#         county.append(row[1])\n",
    "#         candidate.append(row[2]\n",
    "\n",
    "\n",
    "#         candidate = row[2]\n",
    "#         if candidate not in candidates: #check candidate\n",
    "#             candidates.append(row[2])\n",
    "            \n",
    "        #check if candidate is in voters dict\n",
    "        #if not, add them and give them a starting count of 1\n",
    "        #if they are, then increase their value by 1\n",
    "        \n",
    "    for row in csvreader:\n",
    "        \n",
    "        if row[2] not in candidates:\n",
    "            candidates[row[2]] = 1\n",
    "        else:\n",
    "            candidates[row[2]] += 1\n",
    "            \n",
    "    print(candidates)\n"
   ]
  },
  {
   "cell_type": "code",
   "execution_count": 28,
   "metadata": {},
   "outputs": [
    {
     "name": "stdout",
     "output_type": "stream",
     "text": [
      "{}\n"
     ]
    }
   ],
   "source": [
    "candidates.clear()\n",
    "print(candidates)"
   ]
  },
  {
   "cell_type": "code",
   "execution_count": null,
   "metadata": {},
   "outputs": [],
   "source": []
  },
  {
   "cell_type": "code",
   "execution_count": null,
   "metadata": {},
   "outputs": [],
   "source": []
  }
 ],
 "metadata": {
  "kernelspec": {
   "display_name": "Python 3",
   "language": "python",
   "name": "python3"
  },
  "language_info": {
   "codemirror_mode": {
    "name": "ipython",
    "version": 3
   },
   "file_extension": ".py",
   "mimetype": "text/x-python",
   "name": "python",
   "nbconvert_exporter": "python",
   "pygments_lexer": "ipython3",
   "version": "3.7.3"
  }
 },
 "nbformat": 4,
 "nbformat_minor": 2
}
