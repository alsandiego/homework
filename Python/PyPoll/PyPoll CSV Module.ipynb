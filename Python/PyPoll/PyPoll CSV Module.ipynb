{
 "cells": [
  {
   "cell_type": "code",
   "execution_count": 1,
   "metadata": {},
   "outputs": [],
   "source": [
    "#import dependencies needed\n",
    "import csv\n",
    "import os"
   ]
  },
  {
   "cell_type": "code",
   "execution_count": 2,
   "metadata": {},
   "outputs": [],
   "source": [
    "#reference my csv file\n",
    "csvpath = os.path.join('Resources', 'election_data.csv')\n",
    "#specify file to output\n",
    "outputpath = os.path.join(\"output\", \"summary.csv\")\n",
    "\n",
    "voters = {}\n",
    "candidates = {}"
   ]
  },
  {
   "cell_type": "code",
   "execution_count": 6,
   "metadata": {},
   "outputs": [
    {
     "name": "stdout",
     "output_type": "stream",
     "text": [
      "{'Khan': 3520999, 'Correy': 3520995, 'Li': 3520988, \"O'Tooley\": 3521000}\n"
     ]
    }
   ],
   "source": [
    "with open(csvpath, newline='') as csvfile:\n",
    "    csvreader = csv.reader(csvfile, delimiter=',')\n",
    "\n",
    "    #Read the header row first and then skip it\n",
    "    csv_header = next(csvreader)\n",
    "    \n",
    "    counter=0\n",
    "    #creates a list and append each row in respective column\n",
    "    #for row in csvreader:\n",
    "#         voters.append(row[0])\n",
    "        \n",
    "#         voterid.append(row[0])\n",
    "#         county.append(row[1])\n",
    "#         candidate.append(row[2]\n",
    "\n",
    "\n",
    "#         candidate = row[2]\n",
    "#         if candidate not in candidates: #check candidate\n",
    "#             candidates.append(row[2])\n",
    "            \n",
    "        #check if candidate is in voters dict\n",
    "        #if not, add them and give them a starting count of 1\n",
    "        #if they are, then increase their value by 1\n",
    "        \n",
    "    for row in csvreader:\n",
    "        \n",
    "        if row[2] not in candidates:\n",
    "            candidates[row[2]] = row[2]\n",
    "            candidates[row[2]] = counter\n",
    "        else:\n",
    "            candidates[row[2]] = counter\n",
    "        \n",
    "    #totalcandidates = len(candidates)\n",
    "    #print(totalcandidates)\n",
    "    print(candidates)\n",
    "    #print(len(voters))\n"
   ]
  },
  {
   "cell_type": "code",
   "execution_count": 4,
   "metadata": {},
   "outputs": [],
   "source": [
    "# thisdict = {\n",
    "#   \"brand\": \"Ford\",\n",
    "#   \"model\": \"Mustang\",\n",
    "#   \"year\": 1964\n",
    "# }\n",
    "# thisdict[\"year\"] = 2018\n",
    "\n",
    "# thisdict = {\n",
    "#   \"brand\": \"Ford\",\n",
    "#   \"model\": \"Mustang\",\n",
    "#   \"year\": 1964\n",
    "# }\n",
    "# thisdict[\"color\"] = \"red\"\n",
    "# print(thisdict)"
   ]
  },
  {
   "cell_type": "code",
   "execution_count": null,
   "metadata": {},
   "outputs": [],
   "source": []
  }
 ],
 "metadata": {
  "kernelspec": {
   "display_name": "Python 3",
   "language": "python",
   "name": "python3"
  },
  "language_info": {
   "codemirror_mode": {
    "name": "ipython",
    "version": 3
   },
   "file_extension": ".py",
   "mimetype": "text/x-python",
   "name": "python",
   "nbconvert_exporter": "python",
   "pygments_lexer": "ipython3",
   "version": "3.7.3"
  }
 },
 "nbformat": 4,
 "nbformat_minor": 2
}
