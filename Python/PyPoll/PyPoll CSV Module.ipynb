{
 "cells": [
  {
   "cell_type": "code",
   "execution_count": 1,
   "metadata": {},
   "outputs": [],
   "source": [
    "#import dependencies needed\n",
    "import csv\n",
    "import os"
   ]
  },
  {
   "cell_type": "code",
   "execution_count": 2,
   "metadata": {},
   "outputs": [],
   "source": [
    "#reference my csv file\n",
    "csvpath = os.path.join('Resources', 'election_data.csv')\n",
    "#specify file to output\n",
    "outputpath = os.path.join(\"output\", \"summary.csv\")\n",
    "\n",
    "candidates = {}"
   ]
  },
  {
   "cell_type": "code",
   "execution_count": 3,
   "metadata": {},
   "outputs": [
    {
     "name": "stdout",
     "output_type": "stream",
     "text": [
      "Election Results\n",
      "-------------------------\n",
      "Total Votes: 3521001\n",
      "-------------------------\n",
      "Khan: 63.000%% (2218231)\n",
      "Correy: 20.000%% (704200)\n",
      "Li: 14.000%% (492940)\n",
      "O'Tooley: 3.000%% (105630)\n",
      "-------------------------\n",
      "Winner: Khan\n",
      "-------------------------\n"
     ]
    }
   ],
   "source": [
    "with open(csvpath, newline='') as csvfile:\n",
    "    csvreader = csv.reader(csvfile, delimiter=',')\n",
    "\n",
    "    #Read the header row first and then skip it\n",
    "    csv_header = next(csvreader)\n",
    "    \n",
    "    for row in csvreader:\n",
    "        #check if candidate exists and then count votes\n",
    "        if row[2] not in candidates:\n",
    "            candidates[row[2]] = 1 #insert candidate and put value of 1 for votes\n",
    "        else:\n",
    "            candidates[row[2]] += 1 #increase the value of the votes\n",
    "    \n",
    "    #get total votes\n",
    "    totalvotes = sum(candidates.values())\n",
    "    #get Key(candidate) with highest value\n",
    "    winner = max(candidates, key=candidates.get)\n",
    "    \n",
    "    print('Election Results')\n",
    "    print('-------------------------')\n",
    "    print('Total Votes: ' + str(totalvotes))\n",
    "    print('-------------------------')\n",
    "    for k,v in candidates.items():\n",
    "        print(str(k) + ': ' + str(\"{:.3%}\".format(v/totalvotes)) +'% ('+ str(v) +')')\n",
    "    print('-------------------------')\n",
    "    print('Winner: '+str(winner))\n",
    "    print('-------------------------')    "
   ]
  },
  {
   "cell_type": "code",
   "execution_count": 4,
   "metadata": {},
   "outputs": [],
   "source": [
    "# Open the output file\n",
    "with open(outputpath, 'w', newline='') as csvfile:\n",
    "\n",
    "    csvwriter = csv.writer(csvfile, delimiter=',')\n",
    "    \n",
    "    #write each row\n",
    "    csvwriter.writerow(['Election Results'])\n",
    "    csvwriter.writerow(['-------------------------'])\n",
    "    csvwriter.writerow(['Total Votes: ' + str(totalvotes)])\n",
    "    csvwriter.writerow(['-------------------------'])\n",
    "    for k,v in candidates.items():\n",
    "       csvwriter.writerow([(str(k) + ': ' + str(\"{:.3%}\".format(v/totalvotes)) +'% ('+ str(v) +')')])\n",
    "    csvwriter.writerow(['-------------------------'])\n",
    "    csvwriter.writerow(['Winner: '+str(winner)])\n",
    "    csvwriter.writerow(['-------------------------'])"
   ]
  },
  {
   "cell_type": "code",
   "execution_count": 5,
   "metadata": {},
   "outputs": [
    {
     "name": "stdout",
     "output_type": "stream",
     "text": [
      "{}\n"
     ]
    }
   ],
   "source": [
    "candidates.clear()\n",
    "print(candidates)"
   ]
  }
 ],
 "metadata": {
  "kernelspec": {
   "display_name": "Python 3",
   "language": "python",
   "name": "python3"
  },
  "language_info": {
   "codemirror_mode": {
    "name": "ipython",
    "version": 3
   },
   "file_extension": ".py",
   "mimetype": "text/x-python",
   "name": "python",
   "nbconvert_exporter": "python",
   "pygments_lexer": "ipython3",
   "version": "3.7.3"
  }
 },
 "nbformat": 4,
 "nbformat_minor": 2
}
