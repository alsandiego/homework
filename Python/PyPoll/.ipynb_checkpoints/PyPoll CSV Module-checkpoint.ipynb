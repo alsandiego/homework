{
 "cells": [
  {
   "cell_type": "code",
   "execution_count": 5,
   "metadata": {},
   "outputs": [],
   "source": [
    "import os\n",
    "import csv"
   ]
  },
  {
   "cell_type": "code",
   "execution_count": 6,
   "metadata": {},
   "outputs": [],
   "source": [
    "#path of csv\n",
    "csvpath = os.path.join('Resources', 'election_data.csv')\n",
    "\n",
    "voters = {}\n",
    "candidates = []"
   ]
  },
  {
   "cell_type": "code",
   "execution_count": 9,
   "metadata": {},
   "outputs": [
    {
     "name": "stdout",
     "output_type": "stream",
     "text": [
      "CSV Header: ['Voter ID', 'County', 'Candidate']\n",
      "['Khan', 'Correy', 'Li', \"O'Tooley\"]\n"
     ]
    }
   ],
   "source": [
    "with open(csvpath, newline='') as csvfile:\n",
    "    csvreader = csv.reader(csvfile, delimiter=',')\n",
    "    \n",
    "    # Read the header row first\n",
    "    csv_header = next(csvreader)\n",
    "    print(f\"CSV Header: {csv_header}\")\n",
    "    \n",
    "    for row in csvreader:\n",
    "#         voters.append(row[0])\n",
    "        \n",
    "#         voterid.append(row[0])\n",
    "#         county.append(row[1])\n",
    "#         candidate.append(row[2]\n",
    "        candidate = row[2]\n",
    "        if candidate not in candidates: #check candidate\n",
    "            candidates.append(row[2])\n",
    "            \n",
    "        #check if candidate is in voters dict\n",
    "        #if not, add them and give them a starting count of 1\n",
    "        #if they are, then increase their value by 1\n",
    "        \n",
    "\n",
    "        \n",
    "        \n",
    "    #totalcandidates = len(candidates)\n",
    "    #print(totalcandidates)\n",
    "    print(candidates)\n",
    "    #print(len(voters))\n"
   ]
  },
  {
   "cell_type": "code",
   "execution_count": null,
   "metadata": {},
   "outputs": [],
   "source": []
  },
  {
   "cell_type": "code",
   "execution_count": null,
   "metadata": {},
   "outputs": [],
   "source": []
  }
 ],
 "metadata": {
  "kernelspec": {
   "display_name": "Python 3",
   "language": "python",
   "name": "python3"
  },
  "language_info": {
   "codemirror_mode": {
    "name": "ipython",
    "version": 3
   },
   "file_extension": ".py",
   "mimetype": "text/x-python",
   "name": "python",
   "nbconvert_exporter": "python",
   "pygments_lexer": "ipython3",
   "version": "3.7.3"
  }
 },
 "nbformat": 4,
 "nbformat_minor": 2
}
