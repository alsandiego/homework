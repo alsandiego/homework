{
 "cells": [
  {
   "cell_type": "code",
   "execution_count": 4,
   "metadata": {},
   "outputs": [],
   "source": [
    "import csv\n",
    "import os"
   ]
  },
  {
   "cell_type": "code",
   "execution_count": 5,
   "metadata": {},
   "outputs": [],
   "source": [
    "csvpath = os.path.join('Resources', 'budget_data.csv')\n",
    "\n",
    "dates = []\n",
    "amount = []"
   ]
  },
  {
   "cell_type": "code",
   "execution_count": 6,
   "metadata": {},
   "outputs": [
    {
     "name": "stdout",
     "output_type": "stream",
     "text": [
      "CSV Header: ['Date', 'Profit/Losses']\n",
      "Financial Analysis\n",
      "----------------------------\n",
      "Total Months: 86\n",
      "Total: $38382578\n",
      "446309.0465116279\n",
      "Greatest Increase in Profits: Feb-2012 ($1170593)\n",
      "Greatest Decrease in Profits: Sep-2013 ($-1196225)\n"
     ]
    }
   ],
   "source": [
    "with open(csvpath, newline='') as csvfile:\n",
    "    csvreader = csv.reader(csvfile, delimiter=',')\n",
    "\n",
    "    # Read the header row first\n",
    "    csv_header = next(csvreader)\n",
    "    print(f\"CSV Header: {csv_header}\")\n",
    "    \n",
    "    for row in csvreader:\n",
    "        dates.append(row[0])\n",
    "        amount.append(int(row[1]))\n",
    "        \n",
    "    totalmonths = len(dates)\n",
    "    totalamount = sum(amount)\n",
    "    avgamount = totalamount/totalmonths\n",
    "    maxvalue = max(amount)\n",
    "    minvalue = min(amount)\n",
    "    maxdate = dates[amount.index(max(amount))] #find corresponding row based on maxvalue\n",
    "    mindate = dates[amount.index(min(amount))] #find corresponding row based on minvalue\n",
    "    \n",
    "    print(\"Financial Analysis\")\n",
    "    print(\"----------------------------\")\n",
    "    print(f'Total Months: {totalmonths}')\n",
    "    print(f'Total: ${totalamount}')\n",
    "    print(avgamount)\n",
    "    print(f'Greatest Increase in Profits: {maxdate} (${maxvalue})')\n",
    "    print(f'Greatest Decrease in Profits: {mindate} (${minvalue})')"
   ]
  },
  {
   "cell_type": "code",
   "execution_count": null,
   "metadata": {},
   "outputs": [],
   "source": []
  }
 ],
 "metadata": {
  "kernelspec": {
   "display_name": "Python 3",
   "language": "python",
   "name": "python3"
  },
  "language_info": {
   "codemirror_mode": {
    "name": "ipython",
    "version": 3
   },
   "file_extension": ".py",
   "mimetype": "text/x-python",
   "name": "python",
   "nbconvert_exporter": "python",
   "pygments_lexer": "ipython3",
   "version": "3.7.3"
  }
 },
 "nbformat": 4,
 "nbformat_minor": 2
}
