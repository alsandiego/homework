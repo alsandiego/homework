{
 "cells": [
  {
   "cell_type": "code",
   "execution_count": 1,
   "metadata": {},
   "outputs": [],
   "source": [
    "#import dependencies needed\n",
    "import csv\n",
    "import os"
   ]
  },
  {
   "cell_type": "code",
   "execution_count": 2,
   "metadata": {},
   "outputs": [],
   "source": [
    "#reference my csv file\n",
    "csvpath = os.path.join('Resources', 'budget_data.csv')\n",
    "#specify file to output\n",
    "outputpath = os.path.join(\"output\", \"summary.csv\")\n",
    "\n",
    "dates = []\n",
    "amount = []"
   ]
  },
  {
   "cell_type": "code",
   "execution_count": 3,
   "metadata": {},
   "outputs": [],
   "source": [
    "with open(csvpath, newline='') as csvfile:\n",
    "    csvreader = csv.reader(csvfile, delimiter=',')\n",
    "\n",
    "    #Read the header row first and then skip it\n",
    "    csv_header = next(csvreader)\n",
    "    \n",
    "    #creates a list and append each row in respective column\n",
    "    for row in csvreader:\n",
    "        dates.append(row[0])\n",
    "        amount.append(int(row[1]))\n",
    "    \n",
    "    #get count of months and sum of profit/loss\n",
    "    totalmonths = len(dates)\n",
    "    totalamount = sum(amount)"
   ]
  },
  {
   "cell_type": "code",
   "execution_count": 4,
   "metadata": {},
   "outputs": [
    {
     "name": "stdout",
     "output_type": "stream",
     "text": [
      "Financial Analysis\n",
      "----------------------------\n",
      "Total Months: 86\n",
      "Total: $38382578\n",
      "Average  Change: $-2315.12\n",
      "Greatest Increase in Profits: Feb-2012 ($1926159)\n",
      "Greatest Decrease in Profits: Sep-2013 ($-2196167)\n"
     ]
    }
   ],
   "source": [
    "#create another list to calculate values\n",
    "profitlost_values = []\n",
    "profit_date = []\n",
    "\n",
    "for i in range(len(amount)):\n",
    "    #skip the first row for its not needed to calculate its change in profit/loss\n",
    "    if i >= 1 :\n",
    "        #deduct current row from previous row\n",
    "        profitlost_values.append((amount[i] - amount[i-1]))\n",
    "        #append corresponding date row\n",
    "        profit_date.append(dates[i])\n",
    "\n",
    "\n",
    "avgvalue = sum(profitlost_values)/len(profitlost_values)\n",
    "maxvalue = max(profitlost_values)\n",
    "minvalue = min(profitlost_values)\n",
    "maxdate = profit_date[profitlost_values.index(max(profitlost_values))] #find corresponding row based on maxvalue\n",
    "mindate = profit_date[profitlost_values.index(min(profitlost_values))] #find corresponding row based on minvalue\n",
    "\n",
    "print(\"Financial Analysis\")\n",
    "print(\"----------------------------\")\n",
    "print(f'Total Months: {totalmonths}')\n",
    "print(f'Total: ${totalamount}')\n",
    "print('Average  Change: $'+ str(round((avgvalue),2)))\n",
    "print(f'Greatest Increase in Profits: {maxdate} (${maxvalue})')\n",
    "print(f'Greatest Decrease in Profits: {mindate} (${minvalue})')\n"
   ]
  },
  {
   "cell_type": "code",
   "execution_count": 5,
   "metadata": {},
   "outputs": [],
   "source": [
    "# Open the output file\n",
    "with open(outputpath, 'w', newline='') as csvfile:\n",
    "\n",
    "    csvwriter = csv.writer(csvfile, delimiter=',')\n",
    "    \n",
    "    #write each row\n",
    "    csvwriter.writerow([\"Financial Analysis\"])\n",
    "    csvwriter.writerow([\"----------------------------\"])\n",
    "    csvwriter.writerow([f'Total Months: {totalmonths}'])\n",
    "    csvwriter.writerow([f'Total: ${totalamount}'])\n",
    "    csvwriter.writerow(['Average  Change: $'+ str(round((avgvalue),2))])\n",
    "    csvwriter.writerow([f'Greatest Increase in Profits: {maxdate} (${maxvalue})'])\n",
    "    csvwriter.writerow([f'Greatest Decrease in Profits: {mindate} (${minvalue})'])"
   ]
  }
 ],
 "metadata": {
  "kernelspec": {
   "display_name": "Python 3",
   "language": "python",
   "name": "python3"
  },
  "language_info": {
   "codemirror_mode": {
    "name": "ipython",
    "version": 3
   },
   "file_extension": ".py",
   "mimetype": "text/x-python",
   "name": "python",
   "nbconvert_exporter": "python",
   "pygments_lexer": "ipython3",
   "version": "3.7.3"
  }
 },
 "nbformat": 4,
 "nbformat_minor": 2
}
