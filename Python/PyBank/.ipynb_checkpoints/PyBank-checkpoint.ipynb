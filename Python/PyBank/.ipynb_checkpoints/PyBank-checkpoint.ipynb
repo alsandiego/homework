{
 "cells": [
  {
   "cell_type": "code",
   "execution_count": 1,
   "metadata": {},
   "outputs": [],
   "source": [
    "import csv\n",
    "import os"
   ]
  },
  {
   "cell_type": "code",
   "execution_count": 2,
   "metadata": {},
   "outputs": [],
   "source": [
    "csvpath = os.path.join('Resources', 'budget_data.csv')\n",
    "\n",
    "dates = []\n",
    "amount = []"
   ]
  },
  {
   "cell_type": "code",
   "execution_count": 3,
   "metadata": {},
   "outputs": [
    {
     "name": "stdout",
     "output_type": "stream",
     "text": [
      "CSV Header: ['Date', 'Profit/Losses']\n",
      "Financial Analysis\n",
      "----------------------------\n",
      "Total Months: 86\n",
      "Total: $38382578\n",
      "446309.0465116279\n",
      "Greatest Increase in Profits: Feb-2012 ($1170593)\n",
      "Greatest Decrease in Profits: Sep-2013 ($-1196225)\n"
     ]
    }
   ],
   "source": [
    "with open(csvpath, newline='') as csvfile:\n",
    "    csvreader = csv.reader(csvfile, delimiter=',')\n",
    "\n",
    "    # Read the header row first\n",
    "    csv_header = next(csvreader)\n",
    "    print(f\"CSV Header: {csv_header}\")\n",
    "    \n",
    "    for row in csvreader:\n",
    "        dates.append(row[0])\n",
    "        amount.append(int(row[1]))\n",
    "    \n",
    "    totalmonths = len(dates)\n",
    "    totalamount = sum(amount)\n",
    "    \n",
    "#     avgamount = totalamount/totalmonths\n",
    "#     maxvalue = max(amount)\n",
    "#     minvalue = min(amount)\n",
    "#     maxdate = dates[amount.index(max(amount))] #find corresponding row based on maxvalue\n",
    "#     mindate = dates[amount.index(min(amount))] #find corresponding row based on minvalue\n",
    "    \n",
    "    print(\"Financial Analysis\")\n",
    "    print(\"----------------------------\")\n",
    "    print(f'Total Months: {totalmonths}')\n",
    "    print(f'Total: ${totalamount}')\n",
    "    print(avgamount)\n",
    "    print(f'Greatest Increase in Profits: {maxdate} (${maxvalue})')\n",
    "    print(f'Greatest Decrease in Profits: {mindate} (${minvalue})')"
   ]
  },
  {
   "cell_type": "code",
   "execution_count": 15,
   "metadata": {},
   "outputs": [
    {
     "name": "stdout",
     "output_type": "stream",
     "text": [
      "Financial Analysis\n",
      "----------------------------\n",
      "Total Months: 86\n",
      "Total: $38382578\n",
      "Average  Change: $-2315.1176470588234\n",
      "Greatest Increase in Profits: Feb-2012 ($1926159)\n",
      "Greatest Decrease in Profits: Sep-2013 ($-2196167)\n"
     ]
    }
   ],
   "source": [
    "profitlost_values = []\n",
    "profit_date = []\n",
    "\n",
    "for i in range(len(amount)):\n",
    "    if i >= 1 :\n",
    "        profitlost_values.append((amount[i] - amount[i-1]))\n",
    "        profit_date.append(dates[i])\n",
    "\n",
    "\n",
    "avgvalue = sum(profitlost_values)/len(profitlost_values)\n",
    "maxvalue = max(profitlost_values)\n",
    "minvalue = min(profitlost_values)\n",
    "maxdate = profit_date[profitlost_values.index(max(profitlost_values))] #find corresponding row based on maxvalue\n",
    "mindate = profit_date[profitlost_values.index(min(profitlost_values))] #find corresponding row based on minvalue\n",
    "\n",
    "print(\"Financial Analysis\")\n",
    "print(\"----------------------------\")\n",
    "print(f'Total Months: {totalmonths}')\n",
    "print(f'Total: ${totalamount}')\n",
    "print(f'Average  Change: ${avgvalue}')\n",
    "print(f'Greatest Increase in Profits: {maxdate} (${maxvalue})')\n",
    "print(f'Greatest Decrease in Profits: {mindate} (${minvalue})')\n"
   ]
  },
  {
   "cell_type": "code",
   "execution_count": null,
   "metadata": {},
   "outputs": [],
   "source": []
  }
 ],
 "metadata": {
  "kernelspec": {
   "display_name": "Python 3",
   "language": "python",
   "name": "python3"
  },
  "language_info": {
   "codemirror_mode": {
    "name": "ipython",
    "version": 3
   },
   "file_extension": ".py",
   "mimetype": "text/x-python",
   "name": "python",
   "nbconvert_exporter": "python",
   "pygments_lexer": "ipython3",
   "version": "3.7.3"
  }
 },
 "nbformat": 4,
 "nbformat_minor": 2
}
