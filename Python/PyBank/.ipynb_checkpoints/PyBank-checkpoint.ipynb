{
 "cells": [
  {
   "cell_type": "code",
   "execution_count": 1,
   "metadata": {},
   "outputs": [],
   "source": [
    "import csv\n",
    "import os"
   ]
  },
  {
   "cell_type": "code",
   "execution_count": 2,
   "metadata": {},
   "outputs": [],
   "source": [
    "csvpath = os.path.join('Resources', 'budget_data.csv')\n",
    "\n",
    "dates = []\n",
    "amount = []"
   ]
  },
  {
   "cell_type": "code",
   "execution_count": 3,
   "metadata": {},
   "outputs": [
    {
     "name": "stdout",
     "output_type": "stream",
     "text": [
      "CSV Header: ['Date', 'Profit/Losses']\n",
      "Financial Analysis\n",
      "----------------------------\n",
      "Total Months: 86\n",
      "Total: $38382578\n",
      "446309.0465116279\n",
      "Greatest Increase in Profits: Feb-2012 ($1170593)\n",
      "Greatest Decrease in Profits: Sep-2013 ($-1196225)\n"
     ]
    }
   ],
   "source": [
    "with open(csvpath, newline='') as csvfile:\n",
    "    csvreader = csv.reader(csvfile, delimiter=',')\n",
    "\n",
    "    # Read the header row first\n",
    "    csv_header = next(csvreader)\n",
    "    print(f\"CSV Header: {csv_header}\")\n",
    "    \n",
    "    for row in csvreader:\n",
    "        dates.append(row[0])\n",
    "        amount.append(int(row[1]))\n",
    "    \n",
    "    totalmonths = len(dates)\n",
    "    totalamount = sum(amount)\n",
    "    avgamount = totalamount/totalmonths\n",
    "    maxvalue = max(amount)\n",
    "    minvalue = min(amount)\n",
    "    maxdate = dates[amount.index(max(amount))] #find corresponding row based on maxvalue\n",
    "    mindate = dates[amount.index(min(amount))] #find corresponding row based on minvalue\n",
    "    \n",
    "    print(\"Financial Analysis\")\n",
    "    print(\"----------------------------\")\n",
    "    print(f'Total Months: {totalmonths}')\n",
    "    print(f'Total: ${totalamount}')\n",
    "    print(avgamount)\n",
    "    print(f'Greatest Increase in Profits: {maxdate} (${maxvalue})')\n",
    "    print(f'Greatest Decrease in Profits: {mindate} (${minvalue})')"
   ]
  },
  {
   "cell_type": "code",
   "execution_count": 8,
   "metadata": {},
   "outputs": [
    {
     "name": "stdout",
     "output_type": "stream",
     "text": [
      "116771\n",
      "-662642\n",
      "-391430\n",
      "379920\n",
      "212354\n",
      "510239\n",
      "-428211\n",
      "-821271\n",
      "693918\n",
      "416278\n",
      "-974163\n",
      "860159\n",
      "-1115009\n",
      "1033048\n",
      "95318\n",
      "-308093\n",
      "99052\n",
      "-521393\n",
      "605450\n",
      "231727\n",
      "-65187\n",
      "-702716\n",
      "177975\n",
      "-1065544\n",
      "1926159\n",
      "-917805\n",
      "898730\n",
      "-334262\n",
      "-246499\n",
      "-64055\n",
      "-1529236\n",
      "1497596\n",
      "304914\n",
      "-635801\n",
      "398319\n",
      "-183161\n",
      "-37864\n",
      "-253689\n",
      "403655\n",
      "94168\n",
      "306877\n",
      "-83000\n",
      "210462\n",
      "-2196167\n",
      "1465222\n",
      "-956983\n",
      "1838447\n",
      "-468003\n",
      "-64602\n",
      "206242\n",
      "-242155\n",
      "-449079\n",
      "315198\n",
      "241099\n",
      "111540\n",
      "365942\n",
      "-219310\n",
      "-368665\n",
      "409837\n",
      "151210\n",
      "-110244\n",
      "-341938\n",
      "-1212159\n",
      "683246\n",
      "-70825\n",
      "335594\n",
      "417334\n",
      "-272194\n",
      "-236462\n",
      "657432\n",
      "-211262\n",
      "-128237\n",
      "-1750387\n",
      "925441\n",
      "932089\n",
      "-311434\n",
      "267252\n",
      "-1876758\n",
      "1733696\n",
      "198551\n",
      "-665765\n",
      "693229\n",
      "-734926\n",
      "77242\n",
      "532869\n"
     ]
    }
   ],
   "source": [
    "profit_lost = []\n",
    "for i in range(len(amount)):\n",
    "    if i >= 1 :\n",
    "        difference = (amount[i] - amount[i-1])\n",
    "        print(difference)\n",
    "\n",
    "avgprofit = sum(difference)"
   ]
  },
  {
   "cell_type": "code",
   "execution_count": null,
   "metadata": {},
   "outputs": [],
   "source": []
  }
 ],
 "metadata": {
  "kernelspec": {
   "display_name": "Python 3",
   "language": "python",
   "name": "python3"
  },
  "language_info": {
   "codemirror_mode": {
    "name": "ipython",
    "version": 3
   },
   "file_extension": ".py",
   "mimetype": "text/x-python",
   "name": "python",
   "nbconvert_exporter": "python",
   "pygments_lexer": "ipython3",
   "version": "3.7.3"
  }
 },
 "nbformat": 4,
 "nbformat_minor": 2
}
